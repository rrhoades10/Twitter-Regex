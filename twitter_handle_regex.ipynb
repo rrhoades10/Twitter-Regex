{
 "cells": [
  {
   "cell_type": "code",
   "execution_count": 1,
   "metadata": {},
   "outputs": [],
   "source": [
    "import re\n",
    "# open file\n",
    "file = open('names.txt', encoding='utf-8')\n",
    "\n",
    "#read from the file\n",
    "data = file.read()\n",
    "\n",
    "# close the file. ALWAYS do this. Never leave a file stream open. \n",
    "file.close()"
   ]
  },
  {
   "cell_type": "code",
   "execution_count": 2,
   "metadata": {},
   "outputs": [
    {
     "name": "stdout",
     "output_type": "stream",
     "text": [
      "1 : Derek Hawkins: @derekhawkins\n",
      "2 : Connor Milliken: \n",
      "3 : Joe Johnson: \n",
      "4 : Sven-Erik Österberg: @sverik\n",
      "5 : Tim : \n",
      "6 : Ryan Butz: @ryanbutz\n",
      "7 : The Doctor: \n",
      "8 : Example Exampleson: @example\n",
      "9 : Barack Obama: @potus44\n",
      "10 : Ripal Patel: @ripalp\n",
      "11 : Darth Vader: @darthvader\n",
      "12 : María Teresa Fernández de la Vega Sanz: \n"
     ]
    }
   ],
   "source": [
    "def display(some_data):\n",
    "    lines = re.findall('.*', some_data)\n",
    "    count = 0\n",
    "    for line in lines:\n",
    "        if len(line) > 1:\n",
    "            name = re.findall('([\\w\\s]+|), ([\\w\\s-]+)\\t.*', line)\n",
    "            handle = re.findall('\\t(@[\\w]+)', line)\n",
    "            count += 1\n",
    "            print(f'{count} : {name[0][1]} {name[0][0]}: {\"\".join(handle)}')\n",
    "            \n",
    "display(data)\n",
    "    "
   ]
  }
 ],
 "metadata": {
  "kernelspec": {
   "display_name": "Python 3",
   "language": "python",
   "name": "python3"
  },
  "language_info": {
   "codemirror_mode": {
    "name": "ipython",
    "version": 3
   },
   "file_extension": ".py",
   "mimetype": "text/x-python",
   "name": "python",
   "nbconvert_exporter": "python",
   "pygments_lexer": "ipython3",
   "version": "3.8.3"
  }
 },
 "nbformat": 4,
 "nbformat_minor": 4
}
